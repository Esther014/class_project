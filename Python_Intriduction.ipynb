{
 "cells": [
  {
   "cell_type": "code",
   "execution_count": 14,
   "id": "1738c625",
   "metadata": {},
   "outputs": [
    {
     "name": "stdout",
     "output_type": "stream",
     "text": [
      "['25cm', '80cm']\n"
     ]
    }
   ],
   "source": [
    "list_array = [\"10m\", \"20m\", \"30m\", \"15m\"]\n",
    "list_array2 = [\"40m\", \"20m\", \"25cm\", \"80cm\"]\n",
    "array_cm = []\n",
    "for i in list_array2:\n",
    "    split_i = []\n",
    "    for b in i:\n",
    "        split_i.append(b)\n",
    "    ##print(split_i)\n",
    "    a = \"\".join(split_i[2:])\n",
    "    #print(a)\n",
    "    if a == \"cm\":\n",
    "        array_cm.append(i)\n",
    "print(array_cm)\n",
    "    "
   ]
  },
  {
   "cell_type": "code",
   "execution_count": 73,
   "id": "73d7de91",
   "metadata": {},
   "outputs": [
    {
     "name": "stdout",
     "output_type": "stream",
     "text": [
      "['25', '80']\n"
     ]
    }
   ],
   "source": [
    "lst_val = []\n",
    "for i in list_array2:\n",
    "    split_i = []\n",
    "    for b in i :\n",
    "        split_i.append(b)\n",
    "        k = \"\".join(split_i[2:])\n",
    "        d = \"\".join(split_i[:-2])\n",
    "        if k == \"cm\":\n",
    "            lst_val.append(d)\n",
    "print(lst_val)"
   ]
  },
  {
   "cell_type": "code",
   "execution_count": 75,
   "id": "7c30cf39",
   "metadata": {},
   "outputs": [
    {
     "name": "stdout",
     "output_type": "stream",
     "text": [
      "['25', '80']\n",
      "['40', '20']\n"
     ]
    }
   ],
   "source": [
    "lst_val2 = []\n",
    "lst_val =[]\n",
    "for i in list_array2:\n",
    "    split_i =[]\n",
    "    for b in i:\n",
    "        split_i.append(b)\n",
    "    if \"c\" in split_i:\n",
    "        a = \"\".join(split_i)[:-2]\n",
    "        lst_val2.append(a)\n",
    "    else:\n",
    "        b = \"\".join(split_i[:-1])\n",
    "        lst_val.append(b)\n",
    "print(lst_val2)\n",
    "print(lst_val)\n",
    "    "
   ]
  },
  {
   "cell_type": "code",
   "execution_count": 76,
   "id": "664d9cea",
   "metadata": {},
   "outputs": [
    {
     "name": "stdout",
     "output_type": "stream",
     "text": [
      "[0.25, 0.8]\n"
     ]
    }
   ],
   "source": [
    "convert_cm = [round(int(i)/100, 2) for i in lst_val2]\n",
    "print(convert_cm)"
   ]
  },
  {
   "cell_type": "code",
   "execution_count": 77,
   "id": "46a7fa6f",
   "metadata": {},
   "outputs": [
    {
     "name": "stdout",
     "output_type": "stream",
     "text": [
      "[40, 20]\n"
     ]
    }
   ],
   "source": [
    "meters = [int(i) for i in lst_val]\n",
    "print(meters)"
   ]
  },
  {
   "cell_type": "code",
   "execution_count": 78,
   "id": "951e9c3d",
   "metadata": {},
   "outputs": [
    {
     "name": "stdout",
     "output_type": "stream",
     "text": [
      "[40, 20, 0.25, 0.8]\n"
     ]
    }
   ],
   "source": [
    "for i in convert_cm:\n",
    "    meters.append(i)\n",
    "print(meters)"
   ]
  },
  {
   "cell_type": "code",
   "execution_count": 79,
   "id": "78f90038",
   "metadata": {},
   "outputs": [
    {
     "data": {
      "text/plain": [
       "['10m', '20m', '30m', '15m']"
      ]
     },
     "execution_count": 79,
     "metadata": {},
     "output_type": "execute_result"
    }
   ],
   "source": [
    "list_array"
   ]
  },
  {
   "cell_type": "code",
   "execution_count": 83,
   "id": "5c417ccd",
   "metadata": {},
   "outputs": [
    {
     "name": "stdout",
     "output_type": "stream",
     "text": [
      "['10', '20', '30', '15']\n"
     ]
    }
   ],
   "source": [
    "numb = []\n",
    "for i in list_array:\n",
    "    a_arr = []\n",
    "    for b in i:\n",
    "        a_arr.append(b)\n",
    "    k = \"\".join(a_arr[:-1])\n",
    "    numb.append(k)\n",
    "print(numb)"
   ]
  },
  {
   "cell_type": "code",
   "execution_count": 84,
   "id": "63a7d187",
   "metadata": {},
   "outputs": [
    {
     "name": "stdout",
     "output_type": "stream",
     "text": [
      "[10, 20, 30, 15]\n"
     ]
    }
   ],
   "source": [
    "convert_numb = [int(i) for i in numb]\n",
    "print(convert_numb)"
   ]
  },
  {
   "cell_type": "code",
   "execution_count": 86,
   "id": "abb836fc",
   "metadata": {},
   "outputs": [
    {
     "name": "stdout",
     "output_type": "stream",
     "text": [
      "-30meters\n",
      "0meters\n",
      "29.75meters\n",
      "14.2meters\n"
     ]
    }
   ],
   "source": [
    "if len(meters) == len(convert_numb):\n",
    "    for i in range(0, len(meters)):\n",
    "        diff = convert_numb[i] - meters[i]\n",
    "        print(f\"{diff}meters\")"
   ]
  },
  {
   "cell_type": "code",
   "execution_count": 92,
   "id": "1eb1e2b5",
   "metadata": {},
   "outputs": [
    {
     "name": "stdout",
     "output_type": "stream",
     "text": [
      "John is 30 years old\n"
     ]
    }
   ],
   "source": [
    "name = (\"john\", \"lola\", \"bayo\")\n",
    "age = (30, 42, 25)\n",
    "\n",
    "array = []\n",
    "for n in name:\n",
    "    n = n.split()[0][0].upper() + n.split()[0][1:]\n",
    "    array.append(n)\n",
    "##print(array)\n",
    "\n",
    "a = array[0]\n",
    "b = age[0]\n",
    "\n",
    "print(f\"{a} is {b} years old\")\n",
    "    "
   ]
  },
  {
   "cell_type": "code",
   "execution_count": null,
   "id": "dd8c97ad",
   "metadata": {},
   "outputs": [],
   "source": []
  }
 ],
 "metadata": {
  "kernelspec": {
   "display_name": "Python 3 (ipykernel)",
   "language": "python",
   "name": "python3"
  },
  "language_info": {
   "codemirror_mode": {
    "name": "ipython",
    "version": 3
   },
   "file_extension": ".py",
   "mimetype": "text/x-python",
   "name": "python",
   "nbconvert_exporter": "python",
   "pygments_lexer": "ipython3",
   "version": "3.9.13"
  }
 },
 "nbformat": 4,
 "nbformat_minor": 5
}
